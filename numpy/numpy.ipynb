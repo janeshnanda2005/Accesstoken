{
  "nbformat": 4,
  "nbformat_minor": 0,
  "metadata": {
    "colab": {
      "provenance": [],
      "authorship_tag": "ABX9TyOsJzDrb3Kb1g9hmhx63Uow",
      "include_colab_link": true
    },
    "kernelspec": {
      "name": "python3",
      "display_name": "Python 3"
    },
    "language_info": {
      "name": "python"
    }
  },
  "cells": [
    {
      "cell_type": "markdown",
      "metadata": {
        "id": "view-in-github",
        "colab_type": "text"
      },
      "source": [
        "<a href=\"https://colab.research.google.com/github/janeshnanda2005/Accesstoken/blob/main/numpy/numpy.ipynb\" target=\"_parent\"><img src=\"https://colab.research.google.com/assets/colab-badge.svg\" alt=\"Open In Colab\"/></a>"
      ]
    },
    {
      "cell_type": "code",
      "execution_count": 1,
      "metadata": {
        "id": "SUDoTJ7Y-6f-"
      },
      "outputs": [],
      "source": [
        "import numpy as np\n"
      ]
    },
    {
      "cell_type": "code",
      "source": [
        "ar = np.array([23,3,3,3,3,3])\n",
        "print(ar)\n",
        "dr = np.array(45)\n",
        "print(dr)"
      ],
      "metadata": {
        "colab": {
          "base_uri": "https://localhost:8080/"
        },
        "id": "4wT8p2fC_ZRf",
        "outputId": "d4f86a4d-34a5-4ef5-ed52-dc5e8622724a"
      },
      "execution_count": null,
      "outputs": [
        {
          "output_type": "stream",
          "name": "stdout",
          "text": [
            "[23  3  3  3  3  3]\n",
            "45\n"
          ]
        }
      ]
    },
    {
      "cell_type": "code",
      "source": [
        "darry = np.array([[1,2,3],[4,5,6]])\n",
        "print(darry)\n",
        "# displays the dimension\n",
        "print(darry.ndim)"
      ],
      "metadata": {
        "colab": {
          "base_uri": "https://localhost:8080/"
        },
        "id": "uPqLOWIa_qIg",
        "outputId": "384de7c8-7068-495f-999a-64e48d244d96"
      },
      "execution_count": null,
      "outputs": [
        {
          "output_type": "stream",
          "name": "stdout",
          "text": [
            "[[1 2 3]\n",
            " [4 5 6]]\n",
            "2\n"
          ]
        }
      ]
    },
    {
      "cell_type": "code",
      "source": [
        "arr = np.array([1, 2, 3, 4], ndmin=5)\n",
        "print(arr)\n",
        "print('number of dimensions :', arr.ndim)\n",
        "k = np.array([1,2,2])\n",
        "#indexing\n",
        "print(k[0])"
      ],
      "metadata": {
        "colab": {
          "base_uri": "https://localhost:8080/"
        },
        "id": "yu7ay-djBTbH",
        "outputId": "5572d4a9-fa39-4270-fb64-cb5cb20323cc"
      },
      "execution_count": null,
      "outputs": [
        {
          "output_type": "stream",
          "name": "stdout",
          "text": [
            "[[[[[1 2 3 4]]]]]\n",
            "number of dimensions : 5\n",
            "1\n"
          ]
        }
      ]
    },
    {
      "cell_type": "code",
      "source": [
        "catch = np.array([[1, 2, 3, 4],[6, 7, 8, 9]])\n",
        "#silcing\n",
        "print(catch[1,1])\n"
      ],
      "metadata": {
        "colab": {
          "base_uri": "https://localhost:8080/"
        },
        "id": "3FIsuS0MCT0x",
        "outputId": "d3fc4ee7-81c0-45b4-8c29-8e335408eea9"
      },
      "execution_count": null,
      "outputs": [
        {
          "output_type": "stream",
          "name": "stdout",
          "text": [
            "7\n"
          ]
        }
      ]
    },
    {
      "cell_type": "code",
      "source": [
        "#access the values from start to endpoint\n",
        "np.arange(50,60,1),np.arange(50,60,2),np.arange(20,50,2)"
      ],
      "metadata": {
        "colab": {
          "base_uri": "https://localhost:8080/"
        },
        "id": "pJl_xuQdDeAm",
        "outputId": "1c57c9e0-4614-4812-8cc0-f9b69cc0184e"
      },
      "execution_count": 3,
      "outputs": [
        {
          "output_type": "execute_result",
          "data": {
            "text/plain": [
              "(array([50, 51, 52, 53, 54, 55, 56, 57, 58, 59]),\n",
              " array([50, 52, 54, 56, 58]),\n",
              " array([20, 22, 24, 26, 28, 30, 32, 34, 36, 38, 40, 42, 44, 46, 48]))"
            ]
          },
          "metadata": {},
          "execution_count": 3
        }
      ]
    },
    {
      "cell_type": "code",
      "source": [
        "#to get the random numbers in float\n",
        "np.random.uniform(5,10,size=4)\n",
        "np.random.uniform(10,15,size = 10)"
      ],
      "metadata": {
        "colab": {
          "base_uri": "https://localhost:8080/"
        },
        "id": "ASf1jejDEckk",
        "outputId": "8fa50705-8197-48ef-b2af-9f2b20fceb6b"
      },
      "execution_count": null,
      "outputs": [
        {
          "output_type": "execute_result",
          "data": {
            "text/plain": [
              "array([11.3843963 , 14.47653465, 13.14007609, 10.87468485, 11.49464989,\n",
              "       11.75208327, 11.70151748, 14.60287534, 13.6864829 , 12.51117483])"
            ]
          },
          "metadata": {},
          "execution_count": 20
        }
      ]
    },
    {
      "cell_type": "code",
      "source": [
        "np.random.uniform(50,60,size = 6)\n"
      ],
      "metadata": {
        "colab": {
          "base_uri": "https://localhost:8080/"
        },
        "id": "klae5VjOFJAa",
        "outputId": "3f7bf765-5fae-4f30-c216-96dbc9058dcf"
      },
      "execution_count": null,
      "outputs": [
        {
          "output_type": "execute_result",
          "data": {
            "text/plain": [
              "array([58.40544912, 59.60193908, 50.86753032, 50.0229582 , 53.32465565,\n",
              "       59.72250703])"
            ]
          },
          "metadata": {},
          "execution_count": 10
        }
      ]
    },
    {
      "cell_type": "code",
      "source": [
        "# generate random numbers in float\n",
        "np.random.rand(1,2)\n",
        "np.random.rand(10,12)\n",
        "np.random.randint(10,20,size = 10)"
      ],
      "metadata": {
        "colab": {
          "base_uri": "https://localhost:8080/"
        },
        "id": "7WmePdYzFpqa",
        "outputId": "ca3eeabf-99a7-4d96-ad6b-ecd3a71e9a91"
      },
      "execution_count": 7,
      "outputs": [
        {
          "output_type": "execute_result",
          "data": {
            "text/plain": [
              "array([18, 16, 18, 16, 15, 19, 16, 16, 18, 15])"
            ]
          },
          "metadata": {},
          "execution_count": 7
        }
      ]
    },
    {
      "cell_type": "code",
      "source": [
        "np.random.random_integers(1,10)#return sthe random intgers"
      ],
      "metadata": {
        "colab": {
          "base_uri": "https://localhost:8080/"
        },
        "id": "DA8yNUvZGLUq",
        "outputId": "49af939d-1bdd-48cb-edbf-d1a53a742d2a"
      },
      "execution_count": null,
      "outputs": [
        {
          "output_type": "stream",
          "name": "stderr",
          "text": [
            "<ipython-input-23-c8e21f3575da>:1: DeprecationWarning: This function is deprecated. Please call randint(1, 10 + 1) instead\n",
            "  np.random.random_integers(1,10)\n"
          ]
        },
        {
          "output_type": "execute_result",
          "data": {
            "text/plain": [
              "4"
            ]
          },
          "metadata": {},
          "execution_count": 23
        }
      ]
    },
    {
      "cell_type": "code",
      "source": [
        "# prompt: data type int64\n",
        "# matrix shape (1, 1, 1, 1, 4)\n",
        "# dimension 5\n",
        "# size 4\n",
        "# item size in Bytes 8\n",
        "# array size in Bytes 32 give code for this'\n",
        "\n",
        "import numpy as np\n",
        "\n",
        "# Create a 5-dimensional array with shape (1, 1, 1, 1, 4) and data type int64\n",
        "my_array = np.zeros((1, 1, 1, 1, 4), dtype=np.int64)\n",
        "\n",
        "# Fill the array with some sample data (you can change this)\n",
        "my_array[0, 0, 0, 0, :] = [10, 20, 30, 40]\n",
        "\n",
        "\n",
        "# Print array information\n",
        "print(\"Data type:\", my_array.dtype)\n",
        "print(\"Shape:\", my_array.shape)\n",
        "print(\"Dimensions:\", my_array.ndim)\n",
        "print(\"Size:\", my_array.size)\n",
        "print(\"Item size (bytes):\", my_array.itemsize)\n",
        "print(\"Array size (bytes):\", my_array.nbytes)"
      ],
      "metadata": {
        "id": "WKSXBKwbGd3p",
        "colab": {
          "base_uri": "https://localhost:8080/"
        },
        "outputId": "5bc09821-8356-4255-a95c-0974165305a0"
      },
      "execution_count": null,
      "outputs": [
        {
          "output_type": "stream",
          "name": "stdout",
          "text": [
            "data type int64\n",
            "matrix shape (1, 1, 1, 1, 4)\n",
            "dimension 5\n",
            "size 4\n",
            "item size in Bytes 8\n",
            "array size in Bytes 32\n"
          ]
        }
      ]
    },
    {
      "cell_type": "code",
      "source": [
        "dr = np.array([[1,2,3,4,5],[6,7,8,9,10]])\n",
        "print(dr)"
      ],
      "metadata": {
        "colab": {
          "base_uri": "https://localhost:8080/"
        },
        "id": "Yh6nPFG8wM2Y",
        "outputId": "0bf4ad51-cdad-45ab-b418-161ecf335d4f"
      },
      "execution_count": null,
      "outputs": [
        {
          "output_type": "stream",
          "name": "stdout",
          "text": [
            "[[ 1  2  3  4  5]\n",
            " [ 6  7  8  9 10]]\n"
          ]
        }
      ]
    },
    {
      "cell_type": "code",
      "source": [
        "print(dr.dtype)# represent the datatype\n",
        "print(dr.itemsize)#displays th item size\n",
        "print(dr.ndim)# display the size of aray\n",
        "print(dr.shape)#returns the rows and colums\n",
        "print(dr.nbytes)#retruns the bytes\n",
        "print(dr.size)#retrns the totla element present in it"
      ],
      "metadata": {
        "colab": {
          "base_uri": "https://localhost:8080/"
        },
        "id": "Yg9q1NfczvpH",
        "outputId": "b33b11ba-b1a4-4cdd-b450-d87cb42904d9"
      },
      "execution_count": null,
      "outputs": [
        {
          "output_type": "stream",
          "name": "stdout",
          "text": [
            "int64\n",
            "8\n",
            "2\n",
            "(2, 5)\n",
            "80\n",
            "10\n"
          ]
        }
      ]
    },
    {
      "cell_type": "code",
      "source": [
        "dx = np.array([[[1,2,3,4,5,6],[7,8,9,10,11,12]],[[13,14,15,16,17,18],[19,20,21,22,23,24]]])\n",
        "print(dx)"
      ],
      "metadata": {
        "colab": {
          "base_uri": "https://localhost:8080/"
        },
        "id": "mYUpQeul53X8",
        "outputId": "a6a16dc6-1323-4d4d-c06a-306cd2b2e7a3"
      },
      "execution_count": 35,
      "outputs": [
        {
          "output_type": "stream",
          "name": "stdout",
          "text": [
            "[[[ 1  2  3  4  5  6]\n",
            "  [ 7  8  9 10 11 12]]\n",
            "\n",
            " [[13 14 15 16 17 18]\n",
            "  [19 20 21 22 23 24]]]\n"
          ]
        }
      ]
    },
    {
      "cell_type": "code",
      "source": [],
      "metadata": {
        "id": "p9PJOhem3SvP"
      },
      "execution_count": null,
      "outputs": []
    },
    {
      "cell_type": "code",
      "source": [
        "arr = np.array([[0,1,2,3,4,5]])\n",
        "print(arr)\n",
        "y = [arr % 2 == 0]\n",
        "print(y)"
      ],
      "metadata": {
        "colab": {
          "base_uri": "https://localhost:8080/"
        },
        "id": "AIhyb7Wc79ry",
        "outputId": "05722626-8ac1-49db-be16-4bba59dc796e"
      },
      "execution_count": null,
      "outputs": [
        {
          "output_type": "stream",
          "name": "stdout",
          "text": [
            "[[0 1 2 3 4 5]]\n",
            "[array([[ True, False,  True, False,  True, False]])]\n"
          ]
        }
      ]
    },
    {
      "cell_type": "code",
      "source": [
        "arr = np.array([[1,2,3,4,5],[6,7,8,9,10]])\n",
        "arr"
      ],
      "metadata": {
        "colab": {
          "base_uri": "https://localhost:8080/"
        },
        "id": "_7wn6gj596vu",
        "outputId": "608e9179-acd5-4921-b399-f85b244bb0b9"
      },
      "execution_count": 9,
      "outputs": [
        {
          "output_type": "execute_result",
          "data": {
            "text/plain": [
              "array([[ 1,  2,  3,  4,  5],\n",
              "       [ 6,  7,  8,  9, 10]])"
            ]
          },
          "metadata": {},
          "execution_count": 9
        }
      ]
    },
    {
      "cell_type": "code",
      "source": [
        "arr[0][1]"
      ],
      "metadata": {
        "colab": {
          "base_uri": "https://localhost:8080/"
        },
        "id": "gBW-Hzio-VoW",
        "outputId": "84db1b1d-95b9-4b19-82b6-91d848a7ec9b"
      },
      "execution_count": 11,
      "outputs": [
        {
          "output_type": "execute_result",
          "data": {
            "text/plain": [
              "2"
            ]
          },
          "metadata": {},
          "execution_count": 11
        }
      ]
    },
    {
      "cell_type": "code",
      "source": [
        "arr[:,1:3]"
      ],
      "metadata": {
        "colab": {
          "base_uri": "https://localhost:8080/"
        },
        "id": "Jdrvqhy9AvoH",
        "outputId": "b69cc898-c10a-45e5-a9a7-22252a5f3565"
      },
      "execution_count": 12,
      "outputs": [
        {
          "output_type": "execute_result",
          "data": {
            "text/plain": [
              "array([[2, 3],\n",
              "       [7, 8]])"
            ]
          },
          "metadata": {},
          "execution_count": 12
        }
      ]
    },
    {
      "cell_type": "code",
      "source": [
        "arr.shape"
      ],
      "metadata": {
        "id": "fM9maNhZ1WO0",
        "outputId": "d61ccd27-84b0-48a3-fce5-6e376013c4d2",
        "colab": {
          "base_uri": "https://localhost:8080/"
        }
      },
      "execution_count": 13,
      "outputs": [
        {
          "output_type": "execute_result",
          "data": {
            "text/plain": [
              "(2, 5)"
            ]
          },
          "metadata": {},
          "execution_count": 13
        }
      ]
    },
    {
      "cell_type": "code",
      "source": [
        "arr.reshape(1,-1),arr.ravel(),arr.flatten()"
      ],
      "metadata": {
        "id": "yclOWq2C1c4D",
        "outputId": "c3ef54da-ccfb-4b31-fee4-e1178a991a91",
        "colab": {
          "base_uri": "https://localhost:8080/"
        }
      },
      "execution_count": 16,
      "outputs": [
        {
          "output_type": "execute_result",
          "data": {
            "text/plain": [
              "(array([[ 1,  2,  3,  4,  5,  6,  7,  8,  9, 10]]),\n",
              " array([ 1,  2,  3,  4,  5,  6,  7,  8,  9, 10]),\n",
              " array([ 1,  2,  3,  4,  5,  6,  7,  8,  9, 10]))"
            ]
          },
          "metadata": {},
          "execution_count": 16
        }
      ]
    },
    {
      "cell_type": "code",
      "source": [
        "v = np.unique(arr)\n",
        "v"
      ],
      "metadata": {
        "id": "4zkpiZUT1pFD",
        "outputId": "647d674a-3b03-4a01-a8f9-06baa1c68f11",
        "colab": {
          "base_uri": "https://localhost:8080/"
        }
      },
      "execution_count": 20,
      "outputs": [
        {
          "output_type": "execute_result",
          "data": {
            "text/plain": [
              "array([ 1,  2,  3,  4,  5,  6,  7,  8,  9, 10])"
            ]
          },
          "metadata": {},
          "execution_count": 20
        }
      ]
    },
    {
      "cell_type": "code",
      "source": [
        "arr[arr>6]"
      ],
      "metadata": {
        "id": "zssbXj_E1_Rr",
        "outputId": "1dfbfb3b-fd45-45f1-8455-54f5f7cba633",
        "colab": {
          "base_uri": "https://localhost:8080/"
        }
      },
      "execution_count": 24,
      "outputs": [
        {
          "output_type": "execute_result",
          "data": {
            "text/plain": [
              "array([ 7,  8,  9, 10])"
            ]
          },
          "metadata": {},
          "execution_count": 24
        }
      ]
    },
    {
      "cell_type": "code",
      "source": [
        "new = np.zeros(10).reshape(5,2)\n",
        "new"
      ],
      "metadata": {
        "id": "ZlZUKu_y2SLC",
        "outputId": "9a345ec1-ccb0-47bc-840b-adc29327b445",
        "colab": {
          "base_uri": "https://localhost:8080/"
        }
      },
      "execution_count": 34,
      "outputs": [
        {
          "output_type": "execute_result",
          "data": {
            "text/plain": [
              "array([[0., 0.],\n",
              "       [0., 0.],\n",
              "       [0., 0.],\n",
              "       [0., 0.],\n",
              "       [0., 0.]])"
            ]
          },
          "metadata": {},
          "execution_count": 34
        }
      ]
    },
    {
      "cell_type": "code",
      "source": [
        "dx"
      ],
      "metadata": {
        "id": "ho1lpEAM3ThG",
        "outputId": "8a0b1a5a-e8d1-4240-cf80-3b754cb45705",
        "colab": {
          "base_uri": "https://localhost:8080/"
        }
      },
      "execution_count": 36,
      "outputs": [
        {
          "output_type": "execute_result",
          "data": {
            "text/plain": [
              "array([[[ 1,  2,  3,  4,  5,  6],\n",
              "        [ 7,  8,  9, 10, 11, 12]],\n",
              "\n",
              "       [[13, 14, 15, 16, 17, 18],\n",
              "        [19, 20, 21, 22, 23, 24]]])"
            ]
          },
          "metadata": {},
          "execution_count": 36
        }
      ]
    },
    {
      "cell_type": "code",
      "source": [
        "dx.sum()"
      ],
      "metadata": {
        "id": "ng4fzBIt3Ue2",
        "outputId": "7236ec0c-9188-42bb-97d3-0f25da3117bf",
        "colab": {
          "base_uri": "https://localhost:8080/"
        }
      },
      "execution_count": 38,
      "outputs": [
        {
          "output_type": "execute_result",
          "data": {
            "text/plain": [
              "300"
            ]
          },
          "metadata": {},
          "execution_count": 38
        }
      ]
    },
    {
      "cell_type": "code",
      "source": [
        "dx.ndim,dx.shape"
      ],
      "metadata": {
        "id": "CZN4EL3Z3ZlF",
        "outputId": "ac63c663-51e6-4f22-adc1-94733e3c1ddd",
        "colab": {
          "base_uri": "https://localhost:8080/"
        }
      },
      "execution_count": 40,
      "outputs": [
        {
          "output_type": "execute_result",
          "data": {
            "text/plain": [
              "(3, (2, 2, 6))"
            ]
          },
          "metadata": {},
          "execution_count": 40
        }
      ]
    },
    {
      "cell_type": "code",
      "source": [
        "dx+dx*2"
      ],
      "metadata": {
        "id": "VW0LdN083e2N",
        "outputId": "2a6aa334-cb27-4d53-8caa-40f676beffd6",
        "colab": {
          "base_uri": "https://localhost:8080/"
        }
      },
      "execution_count": 42,
      "outputs": [
        {
          "output_type": "execute_result",
          "data": {
            "text/plain": [
              "array([[[ 3,  6,  9, 12, 15, 18],\n",
              "        [21, 24, 27, 30, 33, 36]],\n",
              "\n",
              "       [[39, 42, 45, 48, 51, 54],\n",
              "        [57, 60, 63, 66, 69, 72]]])"
            ]
          },
          "metadata": {},
          "execution_count": 42
        }
      ]
    },
    {
      "cell_type": "code",
      "source": [
        "np.arange(10,50).reshape(20,2),np.arange(10,50).reshape(8,5)"
      ],
      "metadata": {
        "id": "hVGCKQ233mWd",
        "outputId": "7ba89a42-f03c-464b-e50e-539a1006bd84",
        "colab": {
          "base_uri": "https://localhost:8080/"
        }
      },
      "execution_count": 51,
      "outputs": [
        {
          "output_type": "execute_result",
          "data": {
            "text/plain": [
              "(array([[10, 11],\n",
              "        [12, 13],\n",
              "        [14, 15],\n",
              "        [16, 17],\n",
              "        [18, 19],\n",
              "        [20, 21],\n",
              "        [22, 23],\n",
              "        [24, 25],\n",
              "        [26, 27],\n",
              "        [28, 29],\n",
              "        [30, 31],\n",
              "        [32, 33],\n",
              "        [34, 35],\n",
              "        [36, 37],\n",
              "        [38, 39],\n",
              "        [40, 41],\n",
              "        [42, 43],\n",
              "        [44, 45],\n",
              "        [46, 47],\n",
              "        [48, 49]]),\n",
              " array([[10, 11, 12, 13, 14],\n",
              "        [15, 16, 17, 18, 19],\n",
              "        [20, 21, 22, 23, 24],\n",
              "        [25, 26, 27, 28, 29],\n",
              "        [30, 31, 32, 33, 34],\n",
              "        [35, 36, 37, 38, 39],\n",
              "        [40, 41, 42, 43, 44],\n",
              "        [45, 46, 47, 48, 49]]))"
            ]
          },
          "metadata": {},
          "execution_count": 51
        }
      ]
    },
    {
      "cell_type": "code",
      "source": [
        "m = np.arange(10,50).reshape(20,2)"
      ],
      "metadata": {
        "id": "N2ZQzqxI4HE1"
      },
      "execution_count": 54,
      "outputs": []
    },
    {
      "cell_type": "code",
      "source": [
        "m.dtype"
      ],
      "metadata": {
        "id": "OnuYyp544ar7",
        "outputId": "4b52baa0-95ee-4d23-8fbf-409ca296a9af",
        "colab": {
          "base_uri": "https://localhost:8080/"
        }
      },
      "execution_count": 55,
      "outputs": [
        {
          "output_type": "execute_result",
          "data": {
            "text/plain": [
              "dtype('int64')"
            ]
          },
          "metadata": {},
          "execution_count": 55
        }
      ]
    },
    {
      "cell_type": "code",
      "source": [
        "np.zeros(10)+np.ones(10)*1000"
      ],
      "metadata": {
        "id": "t9Vmrjgj4iZ6",
        "outputId": "7b168daf-ff8b-499d-a6d0-f9a6ab575244",
        "colab": {
          "base_uri": "https://localhost:8080/"
        }
      },
      "execution_count": 60,
      "outputs": [
        {
          "output_type": "execute_result",
          "data": {
            "text/plain": [
              "array([1000., 1000., 1000., 1000., 1000., 1000., 1000., 1000., 1000.,\n",
              "       1000.])"
            ]
          },
          "metadata": {},
          "execution_count": 60
        }
      ]
    },
    {
      "cell_type": "code",
      "source": [
        "m+m//2"
      ],
      "metadata": {
        "id": "LwCO9qOU407S",
        "outputId": "4f7e2c8f-5017-4ae8-9e7c-848febb73eb2",
        "colab": {
          "base_uri": "https://localhost:8080/"
        }
      },
      "execution_count": 61,
      "outputs": [
        {
          "output_type": "execute_result",
          "data": {
            "text/plain": [
              "array([[15, 16],\n",
              "       [18, 19],\n",
              "       [21, 22],\n",
              "       [24, 25],\n",
              "       [27, 28],\n",
              "       [30, 31],\n",
              "       [33, 34],\n",
              "       [36, 37],\n",
              "       [39, 40],\n",
              "       [42, 43],\n",
              "       [45, 46],\n",
              "       [48, 49],\n",
              "       [51, 52],\n",
              "       [54, 55],\n",
              "       [57, 58],\n",
              "       [60, 61],\n",
              "       [63, 64],\n",
              "       [66, 67],\n",
              "       [69, 70],\n",
              "       [72, 73]])"
            ]
          },
          "metadata": {},
          "execution_count": 61
        }
      ]
    },
    {
      "cell_type": "code",
      "source": [
        "np.arange(2,10)"
      ],
      "metadata": {
        "id": "5GQTl67Y44KB",
        "outputId": "c8e6f78f-2c93-4a54-e2ab-af29086d4c5f",
        "colab": {
          "base_uri": "https://localhost:8080/"
        }
      },
      "execution_count": 63,
      "outputs": [
        {
          "output_type": "execute_result",
          "data": {
            "text/plain": [
              "array([2, 3, 4, 5, 6, 7, 8, 9])"
            ]
          },
          "metadata": {},
          "execution_count": 63
        }
      ]
    }
  ]
}